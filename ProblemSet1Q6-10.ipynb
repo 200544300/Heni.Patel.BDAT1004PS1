{
 "cells": [
  {
   "cell_type": "markdown",
   "id": "8420c996",
   "metadata": {},
   "source": [
    "# Question6"
   ]
  },
  {
   "cell_type": "code",
   "execution_count": 1,
   "id": "48b31d49",
   "metadata": {},
   "outputs": [
    {
     "name": "stdout",
     "output_type": "stream",
     "text": [
      "appyhay\n"
     ]
    }
   ],
   "source": [
    "def pig(str):\n",
    "    if(str[0]=='A'or str[0]=='a'or str[0]=='E'or str[0]=='e'or str[0]=='I'or str[0]=='i'or str[0]=='O'or str[0]=='o'or str[0]=='U'or str[0]=='u'):\n",
    "         print(str+\"way\")\n",
    "       \n",
    "    else:\n",
    "         print(str[1:]+str[0]+\"ay\")\n",
    "pig(\"happy\")"
   ]
  },
  {
   "cell_type": "code",
   "execution_count": 2,
   "id": "86eb4645",
   "metadata": {},
   "outputs": [
    {
     "name": "stdout",
     "output_type": "stream",
     "text": [
      "Enterway\n"
     ]
    }
   ],
   "source": [
    "pig(\"Enter\")"
   ]
  },
  {
   "cell_type": "markdown",
   "id": "5723d4ad",
   "metadata": {},
   "source": [
    "# Question7"
   ]
  },
  {
   "cell_type": "code",
   "execution_count": 3,
   "id": "5c57ea79",
   "metadata": {},
   "outputs": [
    {
     "name": "stdout",
     "output_type": "stream",
     "text": [
      "There are 15 patients of blood type A\n",
      "There is 1 patients of blood type B\n",
      "There are 13 patients of blood type AB\n",
      "There are 15 patients of blood type O\n",
      "There are 0 patients of blood type OO\n"
     ]
    }
   ],
   "source": [
    "def bldcount(file):\n",
    "    inputFile = open(file)\n",
    "    bgroup=['A','B','AB','O','OO']\n",
    "    data=inputFile.read().split()\n",
    "    for i in bgroup:\n",
    "        report = data.count(i)\n",
    "        if(report == 1):\n",
    "            print(\"There is 1 patients of blood type \" +str(i))\n",
    "        else:\n",
    "            print(\"There are \"+str(report)+\" patients of blood type \" +str(i))\n",
    "            \n",
    "bldcount(\"bloodtype1.txt\")"
   ]
  },
  {
   "cell_type": "markdown",
   "id": "bc3cb626",
   "metadata": {},
   "source": [
    "# Question8"
   ]
  },
  {
   "cell_type": "code",
   "execution_count": 4,
   "id": "2209fab9",
   "metadata": {},
   "outputs": [
    {
     "name": "stdout",
     "output_type": "stream",
     "text": [
      "USD= 122.96544\n"
     ]
    }
   ],
   "source": [
    "def curconv(currency, Convert):\n",
    "    Rate = {}\n",
    "    RateFile = open(\"currencies.txt\")\n",
    "    fileContent = RateFile.read().split(\"\\n\")\n",
    "    for i in fileContent:\n",
    "        data = i.split()\n",
    "        Rate[data[0]]=float(data[1])\n",
    "    if(currency in Rate):\n",
    "        print(\"USD= \" + str(Rate[currency]*float(Convert)))\n",
    "        \n",
    "curconv(\"EUR\",100)"
   ]
  },
  {
   "cell_type": "code",
   "execution_count": 5,
   "id": "197ad829",
   "metadata": {},
   "outputs": [
    {
     "name": "stdout",
     "output_type": "stream",
     "text": [
      "USD= 1.77643\n"
     ]
    }
   ],
   "source": [
    "curconv(\"INR\",100)"
   ]
  },
  {
   "cell_type": "markdown",
   "id": "bf53dff7",
   "metadata": {},
   "source": [
    "# Question9"
   ]
  },
  {
   "cell_type": "markdown",
   "id": "530f482f",
   "metadata": {},
   "source": [
    "#### Q:1)Trying to add incompatible variables, as in adding 6 + ‘a’\n",
    "\n",
    "#### Answer: TypeError: unsupported operand type(s) for +: 'int' and 'str'\n",
    " \n",
    "\n",
    "#### Q:2)Referring to the 12th item of a list that has only 10 items\n",
    "\n",
    "#### Answer: IndexError: list index out of range\n",
    "    \n",
    "    \n",
    "#### Q:3)Using a value that is out ofrange for a function’s input, such as calling math.sqrt(-1.0)\n",
    "\n",
    "#### Answer: ValueError: math domain error\n",
    "    \n",
    "    \n",
    "#### Q:4)Using an undeclared variable, such as print(x) when x has not been defined\n",
    "\n",
    "#### Answer: NameError: name 'x' is not defined\n",
    "    \n",
    "    \n",
    "#### Q:5)Trying to open a file that does not exist, such as mistyping the file name or looking in the wrong directory.\n",
    "\n",
    "#### Answer: FileNotFoundError: [Errno 2] No such file or directory: 'heni.txt'"
   ]
  },
  {
   "cell_type": "markdown",
   "id": "1575cb67",
   "metadata": {},
   "source": [
    "# Question10\n"
   ]
  },
  {
   "cell_type": "code",
   "execution_count": 7,
   "id": "88abeba7",
   "metadata": {},
   "outputs": [
    {
     "name": "stdout",
     "output_type": "stream",
     "text": [
      "[1, 1, 1, 3, 5, 1, 1, 2, 1, 0, 1, 0, 1, 2, 4, 0, 1, 2, 0, 2, 1, 0, 1, 1, 0, 0]\n"
     ]
    }
   ],
   "source": [
    "def frequencies(userInput):\n",
    "    letters = 'abcdefghijklmnopqrstuvwxyz'\n",
    "    encryptedList = []\n",
    "    for i in letters:\n",
    "        encryptedList.append(userInput.count(i))\n",
    "    print(encryptedList)\n",
    "        \n",
    "frequencies('The quick red fox got bored and went home.')"
   ]
  },
  {
   "cell_type": "code",
   "execution_count": 8,
   "id": "290fe6e8",
   "metadata": {},
   "outputs": [
    {
     "name": "stdout",
     "output_type": "stream",
     "text": [
      "[1, 0, 0, 0, 1, 0, 0, 0, 0, 0, 0, 1, 0, 0, 0, 2, 0, 0, 0, 0, 0, 0, 0, 0, 0, 0]\n"
     ]
    }
   ],
   "source": [
    "frequencies(\"apple\")"
   ]
  }
 ],
 "metadata": {
  "kernelspec": {
   "display_name": "Python 3 (ipykernel)",
   "language": "python",
   "name": "python3"
  },
  "language_info": {
   "codemirror_mode": {
    "name": "ipython",
    "version": 3
   },
   "file_extension": ".py",
   "mimetype": "text/x-python",
   "name": "python",
   "nbconvert_exporter": "python",
   "pygments_lexer": "ipython3",
   "version": "3.9.13"
  }
 },
 "nbformat": 4,
 "nbformat_minor": 5
}
