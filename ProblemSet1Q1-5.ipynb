{
 "cells": [
  {
   "cell_type": "markdown",
   "id": "5496af06",
   "metadata": {},
   "source": [
    "# Question 1 "
   ]
  },
  {
   "cell_type": "code",
   "execution_count": 21,
   "id": "69f9cda6",
   "metadata": {},
   "outputs": [
    {
     "name": "stdout",
     "output_type": "stream",
     "text": [
      "System.Int32\n",
      "System.Double\n",
      "System.String\n",
      "System.Int32\n",
      "System.Int32\n",
      "System.String\n",
      "System.Int32\n",
      "System.Int32\n",
      "System.ValueTuple`3[System.Int32,System.Int32,System.Int32]\n",
      "System.Boolean\n",
      "System.Double\n"
     ]
    }
   ],
   "source": [
    "Console.WriteLine(5.GetType());\n",
    "Console.WriteLine((5.0).GetType());\n",
    "Console.WriteLine((\"5\").GetType()); \n",
    "Console.WriteLine((5*2).GetType());\n",
    "Console.WriteLine(('5'*2).GetType());\n",
    "Console.WriteLine((\"5\"+\"2\").GetType());\n",
    "Console.WriteLine((5/2).GetType());\n",
    "Console.WriteLine((5%2).GetType());\n",
    "Console.WriteLine((5,3,1).GetType());\n",
    "Console.WriteLine((5==3).GetType());\n",
    "Console.WriteLine((3.14).GetType());\n"
   ]
  },
  {
   "cell_type": "markdown",
   "id": "55968af9",
   "metadata": {},
   "source": [
    "# Question 2.a"
   ]
  },
  {
   "cell_type": "code",
   "execution_count": 5,
   "id": "83fdedef",
   "metadata": {},
   "outputs": [
    {
     "name": "stdout",
     "output_type": "stream",
     "text": [
      "The length of the txt string is: 34\r\n"
     ]
    }
   ],
   "source": [
    "string txt = \"Supercalifragilisticexpialidocious\";\n",
    "Console.WriteLine(\"The length of the txt string is: \" + txt.Length);"
   ]
  },
  {
   "cell_type": "markdown",
   "id": "d148f15e",
   "metadata": {},
   "source": [
    "# Question 2.b"
   ]
  },
  {
   "cell_type": "code",
   "execution_count": 6,
   "id": "706a6980",
   "metadata": {},
   "outputs": [
    {
     "name": "stdout",
     "output_type": "stream",
     "text": [
      "The substring ice is present in the string Supercalifragilisticexpialidocious\r\n"
     ]
    }
   ],
   "source": [
    "string txt = \"Supercalifragilisticexpialidocious\";\n",
    "string s2 = \"ice\";\n",
    "if(txt.Contains(s2))\n",
    "    Console.WriteLine(\"The substring \" + s2 + \" is present in the string \" + txt);\n",
    "else\n",
    "    Console.WriteLine(\"The substring \" + s2 + \" is not present in the string \" + txt);"
   ]
  },
  {
   "cell_type": "markdown",
   "id": "d34296e4",
   "metadata": {},
   "source": [
    "# Question 2.c"
   ]
  },
  {
   "cell_type": "code",
   "execution_count": 7,
   "id": "c5a851f5",
   "metadata": {},
   "outputs": [
    {
     "name": "stdout",
     "output_type": "stream",
     "text": [
      "The longest word =>\n",
      "Supercalifragilisticexpialidocious\n",
      "Bababadalgharaghtakamminarronnkonn\n"
     ]
    }
   ],
   "source": [
    "\n",
    "static void FindLongestWord(string[] wordList)\n",
    "{\n",
    "    int[] lengthList = new int[wordList.Length];\n",
    "    for (int i = 0; i < wordList.Length; i++)\n",
    "    {\n",
    "        lengthList[i] = wordList[i].Length;\n",
    "    }\n",
    "\n",
    "    int maxLength = 0;\n",
    "    for (int i = 0; i < lengthList.Length; i++)\n",
    "    {\n",
    "        if (lengthList[i] > maxLength)\n",
    "        {\n",
    "            maxLength = lengthList[i];\n",
    "        }\n",
    "    }\n",
    "\n",
    "    for (int i = 0; i < wordList.Length; i++)\n",
    "    {\n",
    "        if (wordList[i].Length == maxLength)\n",
    "        {\n",
    "            Console.WriteLine(wordList[i]);\n",
    "        }\n",
    "    }\n",
    "}\n",
    "\n",
    "\n",
    "string[] wordList = new string[] { \"Supercalifragilisticexpialidocious\", \"Honorificabilitudinitatibus\", \"Bababadalgharaghtakamminarronnkonn\" };\n",
    "Console.WriteLine(\"The longest word =>\");\n",
    "FindLongestWord(wordList);"
   ]
  },
  {
   "cell_type": "markdown",
   "id": "2b5a3e5c",
   "metadata": {},
   "source": [
    "# Question 2.d"
   ]
  },
  {
   "cell_type": "code",
   "execution_count": 8,
   "id": "e961a474",
   "metadata": {},
   "outputs": [
    {
     "name": "stdout",
     "output_type": "stream",
     "text": [
      "The sorted list =>\n",
      "Bartok, Bellini, Berlioz, Bernstein, Borodin, Brian, Buxtehude\n",
      "The first element => Bartok\n",
      "The last element => Buxtehude\n"
     ]
    }
   ],
   "source": [
    "string[] thisDict = { \"Berlioz\", \"Borodin\", \"Brian\", \"Bartok\", \"Bellini\", \"Buxtehude\", \"Bernstein\" };\n",
    "Array.Sort(thisDict);\n",
    "Console.WriteLine(\"The sorted list =>\");\n",
    "Console.WriteLine(string.Join(\", \", thisDict));\n",
    "Console.WriteLine(\"The first element => \" + thisDict[0]);\n",
    "Console.WriteLine(\"The last element => \" + thisDict[thisDict.Length - 1]);"
   ]
  },
  {
   "cell_type": "markdown",
   "id": "f4dcd1c5",
   "metadata": {},
   "source": [
    "# Question 3"
   ]
  },
  {
   "cell_type": "code",
   "execution_count": 9,
   "id": "3311d267",
   "metadata": {},
   "outputs": [
    {
     "name": "stdout",
     "output_type": "stream",
     "text": [
      "Area of the Triangle with sides: 2, 2, 2 is 1.7320508075688772\r\n"
     ]
    }
   ],
   "source": [
    "static void triangleArea(double a, double b, double c)\n",
    "{\n",
    "    double s = (a + b + c) / 2;\n",
    "    double area=Math.Sqrt(s * (s - a) * (s - b) * (s - c));\n",
    "    Console.WriteLine(\"Area of the Triangle with sides: \" + a + \", \" + b + \", \" + c + \" is \" + area);\n",
    "}\n",
    "\n",
    "triangleArea(2, 2, 2);"
   ]
  },
  {
   "cell_type": "markdown",
   "id": "d4bb7bfd",
   "metadata": {},
   "source": [
    "# Question 4"
   ]
  },
  {
   "cell_type": "code",
   "execution_count": 12,
   "id": "6d02c1b5",
   "metadata": {},
   "outputs": [
    {
     "name": "stdout",
     "output_type": "stream",
     "text": [
      "Input 0 elements in the array: \n",
      "The Even Number Elements: \n",
      "The Odd Number Elements: \n",
      "Input the number of elements to be stored in the array: \n"
     ]
    }
   ],
   "source": [
    "\n",
    "int[] array = new int[new_number];\n",
    "Console.WriteLine(\"Input \" + new_number + \" elements in the array: \");\n",
    "for (int i = 0; i < new_number; i++)\n",
    "{\n",
    "    Console.WriteLine(\"Enter a number: \");\n",
    "    array[i] = Convert.ToInt32(Console.ReadLine());\n",
    "}\n",
    "\n",
    "Console.WriteLine(\"The Even Number Elements: \");\n",
    "foreach (int n in array)\n",
    "{\n",
    "    if (n % 2 == 0)\n",
    "    {\n",
    "        Console.WriteLine(n);\n",
    "    }\n",
    "}\n",
    "\n",
    "Console.WriteLine(\"The Odd Number Elements: \");\n",
    "foreach (int n in array)\n",
    "{\n",
    "    if (n % 2 != 0)\n",
    "    {\n",
    "        Console.WriteLine(n);\n",
    "    }\n",
    "}\n",
    "\n",
    "Console.WriteLine(\"Input the number of elements to be stored in the array: \");\n",
    "int new_number = Convert.ToInt32(Console.ReadLine());"
   ]
  },
  {
   "cell_type": "markdown",
   "id": "13255749",
   "metadata": {},
   "source": [
    "# Question 5"
   ]
  },
  {
   "cell_type": "code",
   "execution_count": 20,
   "id": "8f64aa4c",
   "metadata": {},
   "outputs": [
    {
     "name": "stdout",
     "output_type": "stream",
     "text": [
      "True\n",
      "False\n"
     ]
    }
   ],
   "source": [
    "public static bool inside(double x, double y, double x1, double y1, double x2, double y2)   \n",
    "{\n",
    "if (x > x1 && x < x2 && y > y1 && y < y2)\n",
    "    return true;\n",
    "else\n",
    "    return false;\n",
    "}\n",
    "\n",
    "\n",
    "Console.WriteLine(inside(1,1,0,0,2,3));\n",
    "Console.WriteLine(inside(-1,-1,0,0,2,3));\n"
   ]
  }
 ],
 "metadata": {
  "kernelspec": {
   "display_name": ".NET (C#)",
   "language": "C#",
   "name": ".net-csharp"
  },
  "language_info": {
   "file_extension": ".cs",
   "mimetype": "text/x-csharp",
   "name": "C#",
   "pygments_lexer": "csharp",
   "version": "11.0"
  }
 },
 "nbformat": 4,
 "nbformat_minor": 5
}
