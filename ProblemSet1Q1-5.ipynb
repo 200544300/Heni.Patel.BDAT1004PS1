{
 "cells": [
  {
   "cell_type": "markdown",
   "id": "88b0caa7",
   "metadata": {},
   "source": [
    "# Question 1 "
   ]
  },
  {
   "cell_type": "code",
   "execution_count": 1,
   "id": "03815a99",
   "metadata": {},
   "outputs": [
    {
     "data": {
      "text/html": [
       "\r\n",
       "<div>\r\n",
       "    <div id='dotnet-interactive-this-cell-28436.Microsoft.DotNet.Interactive.Http.HttpPort' style='display: none'>\r\n",
       "        The below script needs to be able to find the current output cell; this is an easy method to get it.\r\n",
       "    </div>\r\n",
       "    <script type='text/javascript'>\r\n",
       "async function probeAddresses(probingAddresses) {\r\n",
       "    function timeout(ms, promise) {\r\n",
       "        return new Promise(function (resolve, reject) {\r\n",
       "            setTimeout(function () {\r\n",
       "                reject(new Error('timeout'))\r\n",
       "            }, ms)\r\n",
       "            promise.then(resolve, reject)\r\n",
       "        })\r\n",
       "    }\r\n",
       "\r\n",
       "    if (Array.isArray(probingAddresses)) {\r\n",
       "        for (let i = 0; i < probingAddresses.length; i++) {\r\n",
       "\r\n",
       "            let rootUrl = probingAddresses[i];\r\n",
       "\r\n",
       "            if (!rootUrl.endsWith('/')) {\r\n",
       "                rootUrl = `${rootUrl}/`;\r\n",
       "            }\r\n",
       "\r\n",
       "            try {\r\n",
       "                let response = await timeout(1000, fetch(`${rootUrl}discovery`, {\r\n",
       "                    method: 'POST',\r\n",
       "                    cache: 'no-cache',\r\n",
       "                    mode: 'cors',\r\n",
       "                    timeout: 1000,\r\n",
       "                    headers: {\r\n",
       "                        'Content-Type': 'text/plain'\r\n",
       "                    },\r\n",
       "                    body: probingAddresses[i]\r\n",
       "                }));\r\n",
       "\r\n",
       "                if (response.status == 200) {\r\n",
       "                    return rootUrl;\r\n",
       "                }\r\n",
       "            }\r\n",
       "            catch (e) { }\r\n",
       "        }\r\n",
       "    }\r\n",
       "}\r\n",
       "\r\n",
       "function loadDotnetInteractiveApi() {\r\n",
       "    probeAddresses([\"http://192.168.56.1:2049/\", \"http://10.0.0.107:2049/\", \"http://127.0.0.1:2049/\"])\r\n",
       "        .then((root) => {\r\n",
       "        // use probing to find host url and api resources\r\n",
       "        // load interactive helpers and language services\r\n",
       "        let dotnetInteractiveRequire = require.config({\r\n",
       "        context: '28436.Microsoft.DotNet.Interactive.Http.HttpPort',\r\n",
       "                paths:\r\n",
       "            {\r\n",
       "                'dotnet-interactive': `${root}resources`\r\n",
       "                }\r\n",
       "        }) || require;\r\n",
       "\r\n",
       "            window.dotnetInteractiveRequire = dotnetInteractiveRequire;\r\n",
       "\r\n",
       "            window.configureRequireFromExtension = function(extensionName, extensionCacheBuster) {\r\n",
       "                let paths = {};\r\n",
       "                paths[extensionName] = `${root}extensions/${extensionName}/resources/`;\r\n",
       "                \r\n",
       "                let internalRequire = require.config({\r\n",
       "                    context: extensionCacheBuster,\r\n",
       "                    paths: paths,\r\n",
       "                    urlArgs: `cacheBuster=${extensionCacheBuster}`\r\n",
       "                    }) || require;\r\n",
       "\r\n",
       "                return internalRequire\r\n",
       "            };\r\n",
       "        \r\n",
       "            dotnetInteractiveRequire([\r\n",
       "                    'dotnet-interactive/dotnet-interactive'\r\n",
       "                ],\r\n",
       "                function (dotnet) {\r\n",
       "                    dotnet.init(window);\r\n",
       "                },\r\n",
       "                function (error) {\r\n",
       "                    console.log(error);\r\n",
       "                }\r\n",
       "            );\r\n",
       "        })\r\n",
       "        .catch(error => {console.log(error);});\r\n",
       "    }\r\n",
       "\r\n",
       "// ensure `require` is available globally\r\n",
       "if ((typeof(require) !==  typeof(Function)) || (typeof(require.config) !== typeof(Function))) {\r\n",
       "    let require_script = document.createElement('script');\r\n",
       "    require_script.setAttribute('src', 'https://cdnjs.cloudflare.com/ajax/libs/require.js/2.3.6/require.min.js');\r\n",
       "    require_script.setAttribute('type', 'text/javascript');\r\n",
       "    \r\n",
       "    \r\n",
       "    require_script.onload = function() {\r\n",
       "        loadDotnetInteractiveApi();\r\n",
       "    };\r\n",
       "\r\n",
       "    document.getElementsByTagName('head')[0].appendChild(require_script);\r\n",
       "}\r\n",
       "else {\r\n",
       "    loadDotnetInteractiveApi();\r\n",
       "}\r\n",
       "\r\n",
       "    </script>\r\n",
       "</div>"
      ]
     },
     "metadata": {},
     "output_type": "display_data"
    },
    {
     "name": "stdout",
     "output_type": "stream",
     "text": [
      "System.Int32\n",
      "System.Double\n",
      "System.String\n",
      "System.Int32\n",
      "System.Int32\n",
      "System.String\n",
      "System.Int32\n",
      "System.Int32\n",
      "System.ValueTuple`3[System.Int32,System.Int32,System.Int32]\n",
      "System.Boolean\n",
      "System.Double\n"
     ]
    }
   ],
   "source": [
    "Console.WriteLine(5.GetType());\n",
    "Console.WriteLine((5.0).GetType());\n",
    "Console.WriteLine((\"5\").GetType()); \n",
    "Console.WriteLine((5*2).GetType());\n",
    "Console.WriteLine(('5'*2).GetType());\n",
    "Console.WriteLine((\"5\"+\"2\").GetType());\n",
    "Console.WriteLine((5/2).GetType());\n",
    "Console.WriteLine((5%2).GetType());\n",
    "Console.WriteLine((5,3,1).GetType());\n",
    "Console.WriteLine((5==3).GetType());\n",
    "Console.WriteLine((3.14).GetType());\n"
   ]
  },
  {
   "cell_type": "markdown",
   "id": "35b12602",
   "metadata": {},
   "source": [
    "# Question 2.a"
   ]
  },
  {
   "cell_type": "code",
   "execution_count": 2,
   "id": "507d4f95",
   "metadata": {},
   "outputs": [
    {
     "name": "stdout",
     "output_type": "stream",
     "text": [
      "The length of the txt string is: 34\r\n"
     ]
    }
   ],
   "source": [
    "string txt = \"Supercalifragilisticexpialidocious\";\n",
    "Console.WriteLine(\"The length of the txt string is: \" + txt.Length);"
   ]
  },
  {
   "cell_type": "markdown",
   "id": "5244ed80",
   "metadata": {},
   "source": [
    "# Question 2.b"
   ]
  },
  {
   "cell_type": "code",
   "execution_count": 3,
   "id": "5ee90d0b",
   "metadata": {},
   "outputs": [
    {
     "name": "stdout",
     "output_type": "stream",
     "text": [
      "The substring ice is present in the string Supercalifragilisticexpialidocious\r\n"
     ]
    }
   ],
   "source": [
    "string txt = \"Supercalifragilisticexpialidocious\";\n",
    "string s2 = \"ice\";\n",
    "if(txt.Contains(s2))\n",
    "    Console.WriteLine(\"The substring \" + s2 + \" is present in the string \" + txt);\n",
    "else\n",
    "    Console.WriteLine(\"The substring \" + s2 + \" is not present in the string \" + txt);"
   ]
  },
  {
   "cell_type": "markdown",
   "id": "9f3f8646",
   "metadata": {},
   "source": [
    "# Question 2.c"
   ]
  },
  {
   "cell_type": "code",
   "execution_count": 4,
   "id": "92be7d0e",
   "metadata": {},
   "outputs": [
    {
     "name": "stdout",
     "output_type": "stream",
     "text": [
      "The longest word =>\n",
      "Supercalifragilisticexpialidocious\n",
      "Bababadalgharaghtakamminarronnkonn\n"
     ]
    }
   ],
   "source": [
    "\n",
    "static void FindLongestWord(string[] wordList)\n",
    "{\n",
    "    int[] lengthList = new int[wordList.Length];\n",
    "    for (int i = 0; i < wordList.Length; i++)\n",
    "    {\n",
    "        lengthList[i] = wordList[i].Length;\n",
    "    }\n",
    "\n",
    "    int maxLength = 0;\n",
    "    for (int i = 0; i < lengthList.Length; i++)\n",
    "    {\n",
    "        if (lengthList[i] > maxLength)\n",
    "        {\n",
    "            maxLength = lengthList[i];\n",
    "        }\n",
    "    }\n",
    "\n",
    "    for (int i = 0; i < wordList.Length; i++)\n",
    "    {\n",
    "        if (wordList[i].Length == maxLength)\n",
    "        {\n",
    "            Console.WriteLine(wordList[i]);\n",
    "        }\n",
    "    }\n",
    "}\n",
    "\n",
    "\n",
    "string[] wordList = new string[] { \"Supercalifragilisticexpialidocious\", \"Honorificabilitudinitatibus\", \"Bababadalgharaghtakamminarronnkonn\" };\n",
    "Console.WriteLine(\"The longest word =>\");\n",
    "FindLongestWord(wordList);"
   ]
  },
  {
   "cell_type": "markdown",
   "id": "c61ab1e2",
   "metadata": {},
   "source": [
    "# Question 2.d"
   ]
  },
  {
   "cell_type": "code",
   "execution_count": 5,
   "id": "9aea1248",
   "metadata": {},
   "outputs": [
    {
     "name": "stdout",
     "output_type": "stream",
     "text": [
      "The sorted list =>\n",
      "Bartok, Bellini, Berlioz, Bernstein, Borodin, Brian, Buxtehude\n",
      "The first element => Bartok\n",
      "The last element => Buxtehude\n"
     ]
    }
   ],
   "source": [
    "string[] thisDict = { \"Berlioz\", \"Borodin\", \"Brian\", \"Bartok\", \"Bellini\", \"Buxtehude\", \"Bernstein\" };\n",
    "Array.Sort(thisDict);\n",
    "Console.WriteLine(\"The sorted list =>\");\n",
    "Console.WriteLine(string.Join(\", \", thisDict));\n",
    "Console.WriteLine(\"The first element => \" + thisDict[0]);\n",
    "Console.WriteLine(\"The last element => \" + thisDict[thisDict.Length - 1]);"
   ]
  },
  {
   "cell_type": "markdown",
   "id": "7ad352f0",
   "metadata": {},
   "source": [
    "# Question 3"
   ]
  },
  {
   "cell_type": "code",
   "execution_count": 6,
   "id": "bbd1992c",
   "metadata": {},
   "outputs": [
    {
     "name": "stdout",
     "output_type": "stream",
     "text": [
      "Area of the Triangle with sides: 2, 2, 2 is 1.7320508075688772\r\n"
     ]
    }
   ],
   "source": [
    "static void triangleArea(double a, double b, double c)\n",
    "{\n",
    "    double s = (a + b + c) / 2;\n",
    "    double area=Math.Sqrt(s * (s - a) * (s - b) * (s - c));\n",
    "    Console.WriteLine(\"Area of the Triangle with sides: \" + a + \", \" + b + \", \" + c + \" is \" + area);\n",
    "}\n",
    "\n",
    "triangleArea(2, 2, 2);"
   ]
  },
  {
   "cell_type": "markdown",
   "id": "d2bb7626",
   "metadata": {},
   "source": [
    "# Question 4"
   ]
  },
  {
   "cell_type": "code",
   "execution_count": 7,
   "id": "aae0cdd6",
   "metadata": {},
   "outputs": [
    {
     "name": "stdout",
     "output_type": "stream",
     "text": [
      "Element - 0 : 25\n",
      "Element - 1 : 47\n",
      "Element - 2 : 42\n",
      "Element - 3 : 56\n",
      "Element - 4 : 32\n",
      "The Even Number Elements: \n",
      "42\n",
      "56\n",
      "32\n",
      "The Odd Number Elements: \n",
      "25\n",
      "47\n"
     ]
    }
   ],
   "source": [
    "int[] array = {25,47,42,56,32};\n",
    "for (int i=0; i<array.Length; i++)\n",
    "{\n",
    "    Console.WriteLine(\"Element - \"+i+\" : \"+array[i]);\n",
    "}\n",
    "\n",
    "\n",
    "Console.WriteLine(\"The Even Number Elements: \");\n",
    "foreach (int n in array)\n",
    "{\n",
    "    if (n % 2 == 0)\n",
    "    {\n",
    "        Console.WriteLine(n);\n",
    "    }\n",
    "}\n",
    "\n",
    "Console.WriteLine(\"The Odd Number Elements: \");\n",
    "foreach (int n in array)\n",
    "{\n",
    "    if (n % 2 != 0)\n",
    "    {\n",
    "        Console.WriteLine(n);\n",
    "    }\n",
    "}\n",
    "\n"
   ]
  },
  {
   "cell_type": "markdown",
   "id": "eaf15d15",
   "metadata": {},
   "source": [
    "# Question 5"
   ]
  },
  {
   "cell_type": "code",
   "execution_count": 8,
   "id": "eaf7b09c",
   "metadata": {},
   "outputs": [
    {
     "name": "stdout",
     "output_type": "stream",
     "text": [
      "True\n",
      "False\n"
     ]
    }
   ],
   "source": [
    "public static bool inside(double x, double y, double x1, double y1, double x2, double y2)   \n",
    "{\n",
    "if (x > x1 && x < x2 && y > y1 && y < y2)\n",
    "    return true;\n",
    "else\n",
    "    return false;\n",
    "}\n",
    "\n",
    "\n",
    "Console.WriteLine(inside(1,1,0,0,2,3));\n",
    "Console.WriteLine(inside(-1,-1,0,0,2,3));\n"
   ]
  }
 ],
 "metadata": {
  "kernelspec": {
   "display_name": ".NET (C#)",
   "language": "C#",
   "name": ".net-csharp"
  },
  "language_info": {
   "file_extension": ".cs",
   "mimetype": "text/x-csharp",
   "name": "C#",
   "pygments_lexer": "csharp",
   "version": "11.0"
  }
 },
 "nbformat": 4,
 "nbformat_minor": 5
}
